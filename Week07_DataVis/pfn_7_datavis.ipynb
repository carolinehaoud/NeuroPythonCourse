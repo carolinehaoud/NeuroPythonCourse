{
 "cells": [
  {
   "cell_type": "markdown",
   "id": "09400d13-c4aa-471d-b71b-c784c7548907",
   "metadata": {
    "id": "09400d13-c4aa-471d-b71b-c784c7548907"
   },
   "source": [
    "# Python for Neuroscientists Week 7: Data Visualization\n"
   ]
  },
  {
   "cell_type": "markdown",
   "id": "743a0485-d324-432e-8b1d-f9f9c718230e",
   "metadata": {
    "id": "743a0485-d324-432e-8b1d-f9f9c718230e",
    "tags": []
   },
   "source": [
    "# Loading and preparing our *neural data!!*\n",
    "We'll begin today by loading in some (real!) data. Before we do that, let's import some packages:"
   ]
  },
  {
   "cell_type": "code",
   "execution_count": 2,
   "id": "71cd06b4-7d1a-4dbf-9c70-8848fdec2f84",
   "metadata": {
    "executionInfo": {
     "elapsed": 1220,
     "status": "ok",
     "timestamp": 1666108391455,
     "user": {
      "displayName": "Abhishek Shah",
      "userId": "00429883755002842716"
     },
     "user_tz": 240
    },
    "id": "71cd06b4-7d1a-4dbf-9c70-8848fdec2f84"
   },
   "outputs": [],
   "source": [
    "#remember that when we use 'as', we are simply telling Python what term we want to refer to our imported packages by\n",
    "import pandas as pd\n",
    "import numpy as np\n",
    "import matplotlib.pyplot as plt\n",
    "import seaborn as sns\n",
    "\n",
    "#this does some important stuff behind the scenes for plotting specifically for jupyter notebooks (same in vscode), ask us if you want to learn more\n",
    "%matplotlib inline "
   ]
  },
  {
   "cell_type": "markdown",
   "id": "aa087818-b0fd-4836-ac55-87d0c26b2403",
   "metadata": {
    "id": "aa087818-b0fd-4836-ac55-87d0c26b2403"
   },
   "source": [
    "Now, let's load and examine our data!"
   ]
  },
  {
   "cell_type": "code",
   "execution_count": 9,
   "id": "61b61659-0423-4c6e-aff9-82229f1f4446",
   "metadata": {
    "colab": {
     "base_uri": "https://localhost:8080/",
     "height": 328
    },
    "executionInfo": {
     "elapsed": 290,
     "status": "error",
     "timestamp": 1666108391741,
     "user": {
      "displayName": "Abhishek Shah",
      "userId": "00429883755002842716"
     },
     "user_tz": 240
    },
    "id": "61b61659-0423-4c6e-aff9-82229f1f4446",
    "outputId": "e9e02f6c-8ce4-47dd-af3e-6e61e39d1166"
   },
   "outputs": [
    {
     "data": {
      "text/html": [
       "<div>\n",
       "<style scoped>\n",
       "    .dataframe tbody tr th:only-of-type {\n",
       "        vertical-align: middle;\n",
       "    }\n",
       "\n",
       "    .dataframe tbody tr th {\n",
       "        vertical-align: top;\n",
       "    }\n",
       "\n",
       "    .dataframe thead th {\n",
       "        text-align: right;\n",
       "    }\n",
       "</style>\n",
       "<table border=\"1\" class=\"dataframe\">\n",
       "  <thead>\n",
       "    <tr style=\"text-align: right;\">\n",
       "      <th></th>\n",
       "      <th>dF/F</th>\n",
       "      <th>time_from_stim</th>\n",
       "      <th>cell_id</th>\n",
       "      <th>exposure</th>\n",
       "      <th>trial_id</th>\n",
       "      <th>omitted</th>\n",
       "      <th>pupil_area</th>\n",
       "      <th>mean_response</th>\n",
       "    </tr>\n",
       "  </thead>\n",
       "  <tbody>\n",
       "    <tr>\n",
       "      <th>0</th>\n",
       "      <td>0.213396</td>\n",
       "      <td>-1.228129</td>\n",
       "      <td>1086500633</td>\n",
       "      <td>familiar</td>\n",
       "      <td>24</td>\n",
       "      <td>False</td>\n",
       "      <td>5636.081391</td>\n",
       "      <td>0.055830</td>\n",
       "    </tr>\n",
       "    <tr>\n",
       "      <th>1</th>\n",
       "      <td>-0.096333</td>\n",
       "      <td>-1.195810</td>\n",
       "      <td>1086500633</td>\n",
       "      <td>familiar</td>\n",
       "      <td>24</td>\n",
       "      <td>False</td>\n",
       "      <td>5636.081391</td>\n",
       "      <td>0.055830</td>\n",
       "    </tr>\n",
       "    <tr>\n",
       "      <th>2</th>\n",
       "      <td>-0.117812</td>\n",
       "      <td>-1.163491</td>\n",
       "      <td>1086500633</td>\n",
       "      <td>familiar</td>\n",
       "      <td>24</td>\n",
       "      <td>False</td>\n",
       "      <td>5636.081391</td>\n",
       "      <td>0.055830</td>\n",
       "    </tr>\n",
       "    <tr>\n",
       "      <th>3</th>\n",
       "      <td>0.096526</td>\n",
       "      <td>-1.131172</td>\n",
       "      <td>1086500633</td>\n",
       "      <td>familiar</td>\n",
       "      <td>24</td>\n",
       "      <td>False</td>\n",
       "      <td>5636.081391</td>\n",
       "      <td>0.055830</td>\n",
       "    </tr>\n",
       "    <tr>\n",
       "      <th>4</th>\n",
       "      <td>-0.000783</td>\n",
       "      <td>-1.098852</td>\n",
       "      <td>1086500633</td>\n",
       "      <td>familiar</td>\n",
       "      <td>24</td>\n",
       "      <td>False</td>\n",
       "      <td>5636.081391</td>\n",
       "      <td>0.055830</td>\n",
       "    </tr>\n",
       "    <tr>\n",
       "      <th>...</th>\n",
       "      <td>...</td>\n",
       "      <td>...</td>\n",
       "      <td>...</td>\n",
       "      <td>...</td>\n",
       "      <td>...</td>\n",
       "      <td>...</td>\n",
       "      <td>...</td>\n",
       "      <td>...</td>\n",
       "    </tr>\n",
       "    <tr>\n",
       "      <th>689770</th>\n",
       "      <td>-0.116568</td>\n",
       "      <td>1.357393</td>\n",
       "      <td>1086500770</td>\n",
       "      <td>novel</td>\n",
       "      <td>4802</td>\n",
       "      <td>False</td>\n",
       "      <td>7985.740772</td>\n",
       "      <td>-0.040271</td>\n",
       "    </tr>\n",
       "    <tr>\n",
       "      <th>689771</th>\n",
       "      <td>-0.011238</td>\n",
       "      <td>1.389711</td>\n",
       "      <td>1086500770</td>\n",
       "      <td>novel</td>\n",
       "      <td>4802</td>\n",
       "      <td>False</td>\n",
       "      <td>7985.740772</td>\n",
       "      <td>-0.040271</td>\n",
       "    </tr>\n",
       "    <tr>\n",
       "      <th>689772</th>\n",
       "      <td>0.057402</td>\n",
       "      <td>1.422030</td>\n",
       "      <td>1086500770</td>\n",
       "      <td>novel</td>\n",
       "      <td>4802</td>\n",
       "      <td>False</td>\n",
       "      <td>7985.740772</td>\n",
       "      <td>-0.040271</td>\n",
       "    </tr>\n",
       "    <tr>\n",
       "      <th>689773</th>\n",
       "      <td>0.114362</td>\n",
       "      <td>1.454349</td>\n",
       "      <td>1086500770</td>\n",
       "      <td>novel</td>\n",
       "      <td>4802</td>\n",
       "      <td>False</td>\n",
       "      <td>7985.740772</td>\n",
       "      <td>-0.040271</td>\n",
       "    </tr>\n",
       "    <tr>\n",
       "      <th>689774</th>\n",
       "      <td>-0.073561</td>\n",
       "      <td>1.486668</td>\n",
       "      <td>1086500770</td>\n",
       "      <td>novel</td>\n",
       "      <td>4802</td>\n",
       "      <td>False</td>\n",
       "      <td>7985.740772</td>\n",
       "      <td>-0.040271</td>\n",
       "    </tr>\n",
       "  </tbody>\n",
       "</table>\n",
       "<p>689775 rows × 8 columns</p>\n",
       "</div>"
      ],
      "text/plain": [
       "            dF/F  time_from_stim     cell_id  exposure  trial_id  omitted  \\\n",
       "0       0.213396       -1.228129  1086500633  familiar        24    False   \n",
       "1      -0.096333       -1.195810  1086500633  familiar        24    False   \n",
       "2      -0.117812       -1.163491  1086500633  familiar        24    False   \n",
       "3       0.096526       -1.131172  1086500633  familiar        24    False   \n",
       "4      -0.000783       -1.098852  1086500633  familiar        24    False   \n",
       "...          ...             ...         ...       ...       ...      ...   \n",
       "689770 -0.116568        1.357393  1086500770     novel      4802    False   \n",
       "689771 -0.011238        1.389711  1086500770     novel      4802    False   \n",
       "689772  0.057402        1.422030  1086500770     novel      4802    False   \n",
       "689773  0.114362        1.454349  1086500770     novel      4802    False   \n",
       "689774 -0.073561        1.486668  1086500770     novel      4802    False   \n",
       "\n",
       "         pupil_area  mean_response  \n",
       "0       5636.081391       0.055830  \n",
       "1       5636.081391       0.055830  \n",
       "2       5636.081391       0.055830  \n",
       "3       5636.081391       0.055830  \n",
       "4       5636.081391       0.055830  \n",
       "...             ...            ...  \n",
       "689770  7985.740772      -0.040271  \n",
       "689771  7985.740772      -0.040271  \n",
       "689772  7985.740772      -0.040271  \n",
       "689773  7985.740772      -0.040271  \n",
       "689774  7985.740772      -0.040271  \n",
       "\n",
       "[689775 rows x 8 columns]"
      ]
     },
     "execution_count": 9,
     "metadata": {},
     "output_type": "execute_result"
    }
   ],
   "source": [
    "data = pd.read_csv('SST_data.csv')\n",
    "data"
   ]
  },
  {
   "cell_type": "markdown",
   "id": "0cf56324-e40a-4f1f-8924-b73e085977f6",
   "metadata": {
    "id": "0cf56324-e40a-4f1f-8924-b73e085977f6"
   },
   "source": [
    "This dataset is borrowed from [Neuromatch Academy](https://compneuro.neuromatch.io/projects/neurons/README.html), but this is very much real data, generated by the Allen Institute! Briefly, what you see here are two-photon calcium imaging signals from a single mouse performing a visual change detection task. I've curated this dataset just a little bit, so we're only looking at SST-expressing interneurons. To better understand what's going on here, let's traverse this dataframe a little bit.\n",
    "\n",
    "P.S. If you want to learn more about the dataset, check out the youtube video in the NMA link!"
   ]
  },
  {
   "cell_type": "code",
   "execution_count": 4,
   "id": "c9fbc8c3-03d3-4523-8c91-8fa6c9283a4f",
   "metadata": {
    "executionInfo": {
     "elapsed": 8,
     "status": "aborted",
     "timestamp": 1666108391742,
     "user": {
      "displayName": "Abhishek Shah",
      "userId": "00429883755002842716"
     },
     "user_tz": 240
    },
    "id": "c9fbc8c3-03d3-4523-8c91-8fa6c9283a4f"
   },
   "outputs": [
    {
     "data": {
      "text/plain": [
       "array([1086500633, 1086500392, 1086500770, 1086500872, 1086499783,\n",
       "       1086499911, 1086500092, 1086500297, 1086501106, 1086501010,\n",
       "       1086499499, 1086500194, 1086499628])"
      ]
     },
     "execution_count": 4,
     "metadata": {},
     "output_type": "execute_result"
    }
   ],
   "source": [
    "#You can index dataframes using .COLUMN_NAME - Pandas is very flexible!\n",
    "data.cell_id.unique()"
   ]
  },
  {
   "cell_type": "code",
   "execution_count": 8,
   "id": "bb450645-d5fd-41f2-92c5-8dd160787fcd",
   "metadata": {
    "executionInfo": {
     "elapsed": 8,
     "status": "aborted",
     "timestamp": 1666108391742,
     "user": {
      "displayName": "Abhishek Shah",
      "userId": "00429883755002842716"
     },
     "user_tz": 240
    },
    "id": "bb450645-d5fd-41f2-92c5-8dd160787fcd"
   },
   "outputs": [
    {
     "data": {
      "text/html": [
       "<div>\n",
       "<style scoped>\n",
       "    .dataframe tbody tr th:only-of-type {\n",
       "        vertical-align: middle;\n",
       "    }\n",
       "\n",
       "    .dataframe tbody tr th {\n",
       "        vertical-align: top;\n",
       "    }\n",
       "\n",
       "    .dataframe thead th {\n",
       "        text-align: right;\n",
       "    }\n",
       "</style>\n",
       "<table border=\"1\" class=\"dataframe\">\n",
       "  <thead>\n",
       "    <tr style=\"text-align: right;\">\n",
       "      <th></th>\n",
       "      <th>dF/F</th>\n",
       "      <th>time_from_stim</th>\n",
       "      <th>cell_id</th>\n",
       "      <th>exposure</th>\n",
       "      <th>trial_id</th>\n",
       "      <th>omitted</th>\n",
       "      <th>pupil_area</th>\n",
       "      <th>mean_response</th>\n",
       "    </tr>\n",
       "  </thead>\n",
       "  <tbody>\n",
       "    <tr>\n",
       "      <th>0</th>\n",
       "      <td>0.213396</td>\n",
       "      <td>-1.228129</td>\n",
       "      <td>1086500633</td>\n",
       "      <td>familiar</td>\n",
       "      <td>24</td>\n",
       "      <td>False</td>\n",
       "      <td>5636.081391</td>\n",
       "      <td>0.05583</td>\n",
       "    </tr>\n",
       "    <tr>\n",
       "      <th>1</th>\n",
       "      <td>-0.096333</td>\n",
       "      <td>-1.195810</td>\n",
       "      <td>1086500633</td>\n",
       "      <td>familiar</td>\n",
       "      <td>24</td>\n",
       "      <td>False</td>\n",
       "      <td>5636.081391</td>\n",
       "      <td>0.05583</td>\n",
       "    </tr>\n",
       "    <tr>\n",
       "      <th>2</th>\n",
       "      <td>-0.117812</td>\n",
       "      <td>-1.163491</td>\n",
       "      <td>1086500633</td>\n",
       "      <td>familiar</td>\n",
       "      <td>24</td>\n",
       "      <td>False</td>\n",
       "      <td>5636.081391</td>\n",
       "      <td>0.05583</td>\n",
       "    </tr>\n",
       "    <tr>\n",
       "      <th>3</th>\n",
       "      <td>0.096526</td>\n",
       "      <td>-1.131172</td>\n",
       "      <td>1086500633</td>\n",
       "      <td>familiar</td>\n",
       "      <td>24</td>\n",
       "      <td>False</td>\n",
       "      <td>5636.081391</td>\n",
       "      <td>0.05583</td>\n",
       "    </tr>\n",
       "    <tr>\n",
       "      <th>4</th>\n",
       "      <td>-0.000783</td>\n",
       "      <td>-1.098852</td>\n",
       "      <td>1086500633</td>\n",
       "      <td>familiar</td>\n",
       "      <td>24</td>\n",
       "      <td>False</td>\n",
       "      <td>5636.081391</td>\n",
       "      <td>0.05583</td>\n",
       "    </tr>\n",
       "    <tr>\n",
       "      <th>...</th>\n",
       "      <td>...</td>\n",
       "      <td>...</td>\n",
       "      <td>...</td>\n",
       "      <td>...</td>\n",
       "      <td>...</td>\n",
       "      <td>...</td>\n",
       "      <td>...</td>\n",
       "      <td>...</td>\n",
       "    </tr>\n",
       "    <tr>\n",
       "      <th>80</th>\n",
       "      <td>-0.076015</td>\n",
       "      <td>1.357406</td>\n",
       "      <td>1086500633</td>\n",
       "      <td>familiar</td>\n",
       "      <td>24</td>\n",
       "      <td>False</td>\n",
       "      <td>5636.081391</td>\n",
       "      <td>0.05583</td>\n",
       "    </tr>\n",
       "    <tr>\n",
       "      <th>81</th>\n",
       "      <td>0.017808</td>\n",
       "      <td>1.389725</td>\n",
       "      <td>1086500633</td>\n",
       "      <td>familiar</td>\n",
       "      <td>24</td>\n",
       "      <td>False</td>\n",
       "      <td>5636.081391</td>\n",
       "      <td>0.05583</td>\n",
       "    </tr>\n",
       "    <tr>\n",
       "      <th>82</th>\n",
       "      <td>-0.085116</td>\n",
       "      <td>1.422044</td>\n",
       "      <td>1086500633</td>\n",
       "      <td>familiar</td>\n",
       "      <td>24</td>\n",
       "      <td>False</td>\n",
       "      <td>5636.081391</td>\n",
       "      <td>0.05583</td>\n",
       "    </tr>\n",
       "    <tr>\n",
       "      <th>83</th>\n",
       "      <td>-0.176912</td>\n",
       "      <td>1.454364</td>\n",
       "      <td>1086500633</td>\n",
       "      <td>familiar</td>\n",
       "      <td>24</td>\n",
       "      <td>False</td>\n",
       "      <td>5636.081391</td>\n",
       "      <td>0.05583</td>\n",
       "    </tr>\n",
       "    <tr>\n",
       "      <th>84</th>\n",
       "      <td>0.061851</td>\n",
       "      <td>1.486683</td>\n",
       "      <td>1086500633</td>\n",
       "      <td>familiar</td>\n",
       "      <td>24</td>\n",
       "      <td>False</td>\n",
       "      <td>5636.081391</td>\n",
       "      <td>0.05583</td>\n",
       "    </tr>\n",
       "  </tbody>\n",
       "</table>\n",
       "<p>85 rows × 8 columns</p>\n",
       "</div>"
      ],
      "text/plain": [
       "        dF/F  time_from_stim     cell_id  exposure  trial_id  omitted  \\\n",
       "0   0.213396       -1.228129  1086500633  familiar        24    False   \n",
       "1  -0.096333       -1.195810  1086500633  familiar        24    False   \n",
       "2  -0.117812       -1.163491  1086500633  familiar        24    False   \n",
       "3   0.096526       -1.131172  1086500633  familiar        24    False   \n",
       "4  -0.000783       -1.098852  1086500633  familiar        24    False   \n",
       "..       ...             ...         ...       ...       ...      ...   \n",
       "80 -0.076015        1.357406  1086500633  familiar        24    False   \n",
       "81  0.017808        1.389725  1086500633  familiar        24    False   \n",
       "82 -0.085116        1.422044  1086500633  familiar        24    False   \n",
       "83 -0.176912        1.454364  1086500633  familiar        24    False   \n",
       "84  0.061851        1.486683  1086500633  familiar        24    False   \n",
       "\n",
       "     pupil_area  mean_response  \n",
       "0   5636.081391        0.05583  \n",
       "1   5636.081391        0.05583  \n",
       "2   5636.081391        0.05583  \n",
       "3   5636.081391        0.05583  \n",
       "4   5636.081391        0.05583  \n",
       "..          ...            ...  \n",
       "80  5636.081391        0.05583  \n",
       "81  5636.081391        0.05583  \n",
       "82  5636.081391        0.05583  \n",
       "83  5636.081391        0.05583  \n",
       "84  5636.081391        0.05583  \n",
       "\n",
       "[85 rows x 8 columns]"
      ]
     },
     "execution_count": 8,
     "metadata": {},
     "output_type": "execute_result"
    }
   ],
   "source": [
    "singlecell_trial_data = data[(data.trial_id == 24) & (data.cell_id == 1086500633)]\n",
    "singlecell_trial_data"
   ]
  },
  {
   "cell_type": "markdown",
   "id": "ddef34a4-e99f-4fcd-b28b-8cd68c317d0c",
   "metadata": {
    "id": "ddef34a4-e99f-4fcd-b28b-8cd68c317d0c"
   },
   "source": [
    "Ok, now that we've examined the dataset a little bit, let me provide some documentation:\n",
    "\n",
    "`dF/F` is the instantaneous calcium imaging signal <br>\n",
    "`time_from_stim` is the timepoint of each row of data, aligned to an image presentation <br>\n",
    "`cell_id` self explanatory I hope <br>\n",
    "`exposure` whether the image for a a trial was familiar or novel  <br>\n",
    "`trial_id` each image presentation is a separate trial <br>\n",
    "`omitted` whether a trial had an omitted image <br>\n",
    "`pupil_area` measured 500ms after stimulus presntation <br>\n",
    "`mean_response` average dF/F over the 500ms following image presentation <br>"
   ]
  },
  {
   "cell_type": "markdown",
   "id": "ec4a70a2-f693-4df3-8666-15500a6c6883",
   "metadata": {
    "id": "ec4a70a2-f693-4df3-8666-15500a6c6883"
   },
   "source": [
    "## Problem 1\n",
    "Can you determine how many trials are in this dataset?\n",
    "<details>\n",
    "<summary>Click here for hint</summary>\n",
    "Take a look at what we did above for cell_id - how would you do the same for trial_id, and how do you count the number of values in an array?\n",
    "</details>"
   ]
  },
  {
   "cell_type": "code",
   "execution_count": 21,
   "id": "1ccb8ef6-abf9-4a49-9fd5-9c97a3f43652",
   "metadata": {},
   "outputs": [
    {
     "data": {
      "text/plain": [
       "(739,)"
      ]
     },
     "execution_count": 21,
     "metadata": {},
     "output_type": "execute_result"
    }
   ],
   "source": [
    "len(data.trial_id.unique())\n",
    "\n",
    "#or you could use .shape\n",
    "data.trial_id.unique().shape"
   ]
  },
  {
   "cell_type": "markdown",
   "id": "190e4ee4-8bf8-40d7-a324-a87905cac5c7",
   "metadata": {
    "id": "190e4ee4-8bf8-40d7-a324-a87905cac5c7"
   },
   "source": [
    "# Plotting Simple Data with Matplotlib\n",
    "Let's say we just want to plot the trace of a single cell, on a single trial. The package **Matplotlib** (which we imported as `plt`) is perfect for this type of plotting. Let's pull out some data."
   ]
  },
  {
   "cell_type": "code",
   "execution_count": 26,
   "id": "6ff5be1d-4608-40e3-89ad-0013dcc0fe55",
   "metadata": {
    "executionInfo": {
     "elapsed": 9,
     "status": "aborted",
     "timestamp": 1666108391743,
     "user": {
      "displayName": "Abhishek Shah",
      "userId": "00429883755002842716"
     },
     "user_tz": 240
    },
    "id": "6ff5be1d-4608-40e3-89ad-0013dcc0fe55"
   },
   "outputs": [
    {
     "data": {
      "text/plain": [
       "array([ 0.        , -0.00496857,  0.00674423, -0.01763263, -0.04761156,\n",
       "        0.08080438, -0.07205429, -0.00055223,  0.06000325, -0.1114908 ,\n",
       "        0.05540281, -0.02635718,  0.0029113 ,  0.04146674, -0.00243199,\n",
       "        0.01709818, -0.13901514, -0.12144603, -0.06014833, -0.04648617,\n",
       "        0.06432796, -0.05723911, -0.01201382,  0.1456255 ,  0.08782762,\n",
       "        0.20943731,  0.06826705, -0.05812632, -0.04514774, -0.01683397,\n",
       "        0.1182166 ,  0.1507158 ,  0.03490584, -0.13279231, -0.06884541,\n",
       "       -0.09240516, -0.08629911, -0.04207015, -0.03112201, -0.09212433,\n",
       "        0.        ,  0.03379494, -0.04013482,  0.00201452, -0.13413554,\n",
       "       -0.015636  , -0.01559674,  0.04832751, -0.03531285,  0.11599413,\n",
       "       -0.00475846, -0.00955742, -0.03567727,  0.03658258,  0.05781025,\n",
       "        0.0681921 , -0.13838767,  0.00517592, -0.13026594, -0.11078066,\n",
       "       -0.07357377, -0.09089381, -0.11607467, -0.04319401, -0.09791592,\n",
       "        0.01013106, -0.06501874, -0.04850751,  0.11253423, -0.04441446,\n",
       "        0.07100736,  0.07980902,  0.12420612,  0.00576349,  0.03208485,\n",
       "        0.03290984, -0.01338211, -0.16138682,  0.06534704, -0.03730698,\n",
       "       -0.04475717,  0.04929449, -0.09359215, -0.12676656, -0.04454694])"
      ]
     },
     "execution_count": 26,
     "metadata": {},
     "output_type": "execute_result"
    }
   ],
   "source": [
    "single_trial_data = data[(data.trial_id == 605) & (data.cell_id == 1086500092)]\n",
    "single_trial_trace = np.array(single_trial_data['dF/F'])\n",
    "single_trial_trace"
   ]
  },
  {
   "cell_type": "code",
   "execution_count": 27,
   "id": "f223b240-3ce7-4a1d-8199-0207f5e68095",
   "metadata": {
    "executionInfo": {
     "elapsed": 8,
     "status": "aborted",
     "timestamp": 1666108391743,
     "user": {
      "displayName": "Abhishek Shah",
      "userId": "00429883755002842716"
     },
     "user_tz": 240
    },
    "id": "f223b240-3ce7-4a1d-8199-0207f5e68095"
   },
   "outputs": [
    {
     "data": {
      "text/plain": [
       "[<matplotlib.lines.Line2D at 0x7f3fce2a2e00>]"
      ]
     },
     "execution_count": 27,
     "metadata": {},
     "output_type": "execute_result"
    },
    {
     "data": {
      "image/png": "[encoded data removed]",
      "text/plain": [
       "<Figure size 640x480 with 1 Axes>"
      ]
     },
     "metadata": {},
     "output_type": "display_data"
    }
   ],
   "source": [
    "plt.plot(single_trial_trace)"
   ]
  },
  {
   "cell_type": "markdown",
   "id": "be79bcf5-7683-41ea-a239-eecad7bc43ae",
   "metadata": {
    "id": "be79bcf5-7683-41ea-a239-eecad7bc43ae"
   },
   "source": [
    "Pretty simple right! We can even include the timepoints on the x-axis if we want:"
   ]
  },
  {
   "cell_type": "code",
   "execution_count": 28,
   "id": "f451143a-50b1-4782-8905-a1d6034156b6",
   "metadata": {
    "executionInfo": {
     "elapsed": 8,
     "status": "aborted",
     "timestamp": 1666108391743,
     "user": {
      "displayName": "Abhishek Shah",
      "userId": "00429883755002842716"
     },
     "user_tz": 240
    },
    "id": "f451143a-50b1-4782-8905-a1d6034156b6"
   },
   "outputs": [
    {
     "data": {
      "text/plain": [
       "[<matplotlib.lines.Line2D at 0x7f3fcd9f0190>]"
      ]
     },
     "execution_count": 28,
     "metadata": {},
     "output_type": "execute_result"
    },
    {
     "data": {
      "image/png": "[encoded data removed]",
      "text/plain": [
       "<Figure size 640x480 with 1 Axes>"
      ]
     },
     "metadata": {},
     "output_type": "display_data"
    }
   ],
   "source": [
    "single_trial_timepoints = np.array(single_trial_data['time_from_stim'])\n",
    "plt.plot(single_trial_timepoints, single_trial_trace)"
   ]
  },
  {
   "cell_type": "markdown",
   "id": "776cd62c-af15-4117-a59e-cad414132aec",
   "metadata": {},
   "source": [
    "#### Labels\n",
    "I mean, this noisy data is great and all, but what are we even looking at on our x and y axes? Let's add some labels and a title!"
   ]
  },
  {
   "cell_type": "code",
   "execution_count": 29,
   "id": "de72c077-3d83-4de6-a944-5e13105d23b7",
   "metadata": {},
   "outputs": [
    {
     "data": {
      "text/plain": [
       "Text(0.5, 1.0, 'Is this a publishable graph?')"
      ]
     },
     "execution_count": 29,
     "metadata": {},
     "output_type": "execute_result"
    },
    {
     "data": {
      "image/png": "[encoded data removed]",
      "text/plain": [
       "<Figure size 640x480 with 1 Axes>"
      ]
     },
     "metadata": {},
     "output_type": "display_data"
    }
   ],
   "source": [
    "plt.plot(single_trial_timepoints, single_trial_trace)\n",
    "plt.xlabel('Time from image presentation')\n",
    "plt.ylabel('dF/F')\n",
    "plt.title('Is this a publishable graph?')"
   ]
  },
  {
   "cell_type": "markdown",
   "id": "7a8366e1-bf5e-4ab2-800c-a7a68b5d8f39",
   "metadata": {},
   "source": [
    "#### Resizing figures\n",
    "We can also resize our plot if we'd like, by calling the function `plt.figure`. If you're interested in what's going on here, talk to us after class."
   ]
  },
  {
   "cell_type": "code",
   "execution_count": null,
   "id": "8fa722d5-0f4a-41a6-914a-f238433d3248",
   "metadata": {},
   "outputs": [],
   "source": [
    "plt.figure(figsize = (3, 2))\n",
    "plt.plot(single_trial_timepoints, single_trial_trace)\n",
    "plt.xlabel('Time from image presentation')\n",
    "plt.ylabel('dF/F')\n",
    "plt.title('This is a publishable graph')"
   ]
  },
  {
   "cell_type": "markdown",
   "id": "2f1dbaf3-949b-48d0-9233-e88dd19ca2f7",
   "metadata": {
    "id": "2f1dbaf3-949b-48d0-9233-e88dd19ca2f7"
   },
   "source": [
    "Ok, this data is a little underwhelming at a single-cell level, ngl. What if we want to plot a bunch of data together?"
   ]
  },
  {
   "cell_type": "code",
   "execution_count": null,
   "id": "5a3234f6-0ec8-4e11-b22d-67f418cb8e73",
   "metadata": {
    "executionInfo": {
     "elapsed": 8,
     "status": "aborted",
     "timestamp": 1666108391743,
     "user": {
      "displayName": "Abhishek Shah",
      "userId": "00429883755002842716"
     },
     "user_tz": 240
    },
    "id": "5a3234f6-0ec8-4e11-b22d-67f418cb8e73"
   },
   "outputs": [],
   "source": [
    "plt.plot(data['dF/F'])"
   ]
  },
  {
   "cell_type": "markdown",
   "id": "6ab3e868-57b3-4694-9c8f-c6b3e970e643",
   "metadata": {
    "id": "6ab3e868-57b3-4694-9c8f-c6b3e970e643"
   },
   "source": [
    "Um that doesn't work. We could spend a lot of time parsing through our dataframe to organize the data correctly, but there are easier ways to plot datasets with many variables:\n"
   ]
  },
  {
   "cell_type": "markdown",
   "id": "48704692-d69a-4cc2-8257-d5076692ac82",
   "metadata": {
    "id": "48704692-d69a-4cc2-8257-d5076692ac82"
   },
   "source": [
    "# Plotting data with Seaborn"
   ]
  },
  {
   "cell_type": "markdown",
   "id": "34b27c2d-db2f-4635-a953-4b86a05d788b",
   "metadata": {
    "id": "34b27c2d-db2f-4635-a953-4b86a05d788b"
   },
   "source": [
    "One thing that's important to note about our dataset is that it's long-form, not wide (e.g. column labels don't correspond to time, but rather, each row represents a separate single observation). While this may seem confusing at first, it makes things intensely convenient when we use **Seaborn**, a plotting package that's built on top of matplotlib."
   ]
  },
  {
   "cell_type": "markdown",
   "id": "f24b8421-4908-4fdc-97fb-20986778bd04",
   "metadata": {
    "id": "f24b8421-4908-4fdc-97fb-20986778bd04"
   },
   "source": [
    "Seaborn is super simple: all you need to provide is your data, and then specify what columns you want on the x and y axis. For example:"
   ]
  },
  {
   "cell_type": "code",
   "execution_count": null,
   "id": "ceb3685d-9dc9-40c1-a17e-9a4446461b2b",
   "metadata": {
    "executionInfo": {
     "elapsed": 8,
     "status": "aborted",
     "timestamp": 1666108391744,
     "user": {
      "displayName": "Abhishek Shah",
      "userId": "00429883755002842716"
     },
     "user_tz": 240
    },
    "id": "ceb3685d-9dc9-40c1-a17e-9a4446461b2b"
   },
   "outputs": [],
   "source": [
    "#ignore this for now, it just makes things look good\n",
    "sns.set_style(\"ticks\")\n",
    "sns.set_context(\"notebook\")\n",
    "\n",
    "sns.lineplot(data = data, x = 'time_from_stim', y = 'dF/F')"
   ]
  },
  {
   "cell_type": "markdown",
   "id": "573f5fb1-ceb8-4ece-b4bf-4c2a1f6cf1a9",
   "metadata": {
    "id": "573f5fb1-ceb8-4ece-b4bf-4c2a1f6cf1a9"
   },
   "source": [
    "What if we want our x-axis to be categorical instead? Let's google a solution!"
   ]
  },
  {
   "cell_type": "code",
   "execution_count": null,
   "id": "1fbf4d5a-083c-4145-a64f-ff4df086a8d0",
   "metadata": {
    "executionInfo": {
     "elapsed": 8,
     "status": "aborted",
     "timestamp": 1666108391744,
     "user": {
      "displayName": "Abhishek Shah",
      "userId": "00429883755002842716"
     },
     "user_tz": 240
    },
    "id": "1fbf4d5a-083c-4145-a64f-ff4df086a8d0"
   },
   "outputs": [],
   "source": []
  },
  {
   "cell_type": "markdown",
   "id": "8fc1762e-b9d5-4a11-af8b-0d68dbdcf5e1",
   "metadata": {
    "id": "8fc1762e-b9d5-4a11-af8b-0d68dbdcf5e1",
    "tags": []
   },
   "source": [
    "## Problem 2\n",
    "Make a barplot, but instead of using mean response data, plot pupil size instead."
   ]
  },
  {
   "cell_type": "code",
   "execution_count": null,
   "id": "14993d1f-1ebe-400f-b37f-4f4fc6c368b3",
   "metadata": {
    "executionInfo": {
     "elapsed": 9,
     "status": "aborted",
     "timestamp": 1666108391745,
     "user": {
      "displayName": "Abhishek Shah",
      "userId": "00429883755002842716"
     },
     "user_tz": 240
    },
    "id": "14993d1f-1ebe-400f-b37f-4f4fc6c368b3"
   },
   "outputs": [],
   "source": []
  },
  {
   "cell_type": "markdown",
   "id": "7db98efe-f434-4d3c-91db-052e0b36f157",
   "metadata": {
    "id": "7db98efe-f434-4d3c-91db-052e0b36f157"
   },
   "source": [
    "## Splitting up data in Seaborn\n",
    "What if we want to split up our lineplot by familiar and novel trials? Seaborn makes this super easy by allowing you to pass a label to `hue`."
   ]
  },
  {
   "cell_type": "code",
   "execution_count": null,
   "id": "6ed467d3-6123-4118-b0cf-9fa0b6175826",
   "metadata": {
    "executionInfo": {
     "elapsed": 9,
     "status": "aborted",
     "timestamp": 1666108391745,
     "user": {
      "displayName": "Abhishek Shah",
      "userId": "00429883755002842716"
     },
     "user_tz": 240
    },
    "id": "6ed467d3-6123-4118-b0cf-9fa0b6175826"
   },
   "outputs": [],
   "source": [
    "sns.lineplot(data = data, x = 'time_from_stim', y = 'dF/F', hue = 'exposure')"
   ]
  },
  {
   "cell_type": "markdown",
   "id": "04b6f7d1-68ce-4a86-9153-825cd45a2635",
   "metadata": {
    "id": "04b6f7d1-68ce-4a86-9153-825cd45a2635"
   },
   "source": [
    "Notice how seaborn always includes error intervals? We can turn these off if we'd like, but let's leave them be for now. Let's now check the documentation to find other ways to split up data."
   ]
  },
  {
   "cell_type": "code",
   "execution_count": null,
   "id": "7e727ce5-aa8b-4ccd-be70-9efd47ae18eb",
   "metadata": {
    "executionInfo": {
     "elapsed": 9,
     "status": "aborted",
     "timestamp": 1666108391745,
     "user": {
      "displayName": "Abhishek Shah",
      "userId": "00429883755002842716"
     },
     "user_tz": 240
    },
    "id": "7e727ce5-aa8b-4ccd-be70-9efd47ae18eb"
   },
   "outputs": [],
   "source": []
  },
  {
   "cell_type": "markdown",
   "id": "cc6142a2-6531-4a00-b120-3eceeb3f1580",
   "metadata": {
    "id": "cc6142a2-6531-4a00-b120-3eceeb3f1580"
   },
   "source": [
    "## Problem 3\n",
    "1) Can you figure out how to make a histogram of pupil area in Seaborn? Here's some edited data for you to use. <br>\n",
    "2) Once you do this, can you figure out how to split the histogram by `exposure`? <br>\n",
    "3) CHALLENGE: If you have more time, play around with your plot! Be creative and see what else you can add to your histogram, using the documentation as a guide."
   ]
  },
  {
   "cell_type": "code",
   "execution_count": null,
   "id": "ee32f150-380c-416e-8bd4-c8fbf361c5b9",
   "metadata": {
    "executionInfo": {
     "elapsed": 10,
     "status": "aborted",
     "timestamp": 1666108391746,
     "user": {
      "displayName": "Abhishek Shah",
      "userId": "00429883755002842716"
     },
     "user_tz": 240
    },
    "id": "ee32f150-380c-416e-8bd4-c8fbf361c5b9"
   },
   "outputs": [],
   "source": [
    "data_sample = data.sample(1000)"
   ]
  },
  {
   "cell_type": "code",
   "execution_count": null,
   "id": "2a25ffa7-8892-45be-829f-0dc9fa97e00a",
   "metadata": {
    "executionInfo": {
     "elapsed": 10,
     "status": "aborted",
     "timestamp": 1666108391746,
     "user": {
      "displayName": "Abhishek Shah",
      "userId": "00429883755002842716"
     },
     "user_tz": 240
    },
    "id": "2a25ffa7-8892-45be-829f-0dc9fa97e00a"
   },
   "outputs": [],
   "source": []
  },
  {
   "cell_type": "code",
   "execution_count": null,
   "id": "d006c6f6-9b8c-4046-b946-c6472a5e8421",
   "metadata": {
    "executionInfo": {
     "elapsed": 10,
     "status": "aborted",
     "timestamp": 1666108391746,
     "user": {
      "displayName": "Abhishek Shah",
      "userId": "00429883755002842716"
     },
     "user_tz": 240
    },
    "id": "d006c6f6-9b8c-4046-b946-c6472a5e8421"
   },
   "outputs": [],
   "source": []
  },
  {
   "cell_type": "markdown",
   "id": "e2377906-8940-48bd-944f-1aa72ae8146c",
   "metadata": {
    "id": "e2377906-8940-48bd-944f-1aa72ae8146c"
   },
   "source": [
    "## Figure aesthetics\n",
    "Raw seaborn plots look ... not bad. It is nice to have more control, though. Let's start with setting styles and contexts. I'm gonna use another plot type - this one shows individual datapoints."
   ]
  },
  {
   "cell_type": "code",
   "execution_count": null,
   "id": "3baa4de1-0d90-4ba9-acb8-2c9e7e91a65c",
   "metadata": {
    "executionInfo": {
     "elapsed": 10,
     "status": "aborted",
     "timestamp": 1666108391746,
     "user": {
      "displayName": "Abhishek Shah",
      "userId": "00429883755002842716"
     },
     "user_tz": 240
    },
    "id": "3baa4de1-0d90-4ba9-acb8-2c9e7e91a65c"
   },
   "outputs": [],
   "source": [
    "sns.set_style(\"whitegrid\")\n",
    "sns.set_context('talk')\n",
    "sns.catplot(data = data_sample, x = 'exposure', y = 'mean_response')"
   ]
  },
  {
   "cell_type": "code",
   "execution_count": null,
   "id": "75a75984-a578-444c-af78-c959cecb0582",
   "metadata": {
    "id": "75a75984-a578-444c-af78-c959cecb0582",
    "outputId": "376c73c0-3ec8-42fb-96d0-6f33aa83f80d"
   },
   "outputs": [],
   "source": [
    "sns.set_style(\"white\")\n",
    "sns.set_context('poster')\n",
    "sns.catplot(data = data_sample, x = 'exposure', y = 'mean_response')"
   ]
  },
  {
   "cell_type": "code",
   "execution_count": null,
   "id": "6hhmhmAIy9rx",
   "metadata": {
    "id": "6hhmhmAIy9rx"
   },
   "outputs": [],
   "source": [
    "sns.set_style(\"white\")\n",
    "sns.set_context('poster')\n",
    "sns.catplot(data = data_sample, x = 'exposure', y = 'mean_response', s = 1)"
   ]
  },
  {
   "cell_type": "markdown",
   "id": "504db2c0-715a-4975-83c9-1cb48613cb1a",
   "metadata": {
    "id": "504db2c0-715a-4975-83c9-1cb48613cb1a"
   },
   "source": [
    "#### Colors!\n",
    "Seaborn has many options to set colors for plots. Usually, the best strategy is to use a build in palette, but you can override this if you'd like as well."
   ]
  },
  {
   "cell_type": "code",
   "execution_count": null,
   "id": "77ccde12-fe83-43d9-a0bf-a4826aacd86b",
   "metadata": {
    "id": "77ccde12-fe83-43d9-a0bf-a4826aacd86b",
    "outputId": "2bdeab77-14a8-4f61-da99-3b12b43528c6"
   },
   "outputs": [],
   "source": [
    "sns.set_context('talk')\n",
    "sns.catplot(data = data_sample, x = 'exposure', y = 'mean_response', color = 'blue')"
   ]
  },
  {
   "cell_type": "code",
   "execution_count": null,
   "id": "22f4bcb9-b224-41a2-9db8-b1aafbd35001",
   "metadata": {
    "id": "22f4bcb9-b224-41a2-9db8-b1aafbd35001",
    "outputId": "fb25ace5-7da8-465a-c5a2-0ab572b5cac4"
   },
   "outputs": [],
   "source": [
    "sns.set_context('talk')\n",
    "sns.catplot(data = data_sample, x = 'exposure', y = 'mean_response', palette = 'gray')"
   ]
  },
  {
   "cell_type": "markdown",
   "id": "af76d100-66d4-483b-8e18-750e2d83f2b6",
   "metadata": {
    "id": "af76d100-66d4-483b-8e18-750e2d83f2b6"
   },
   "source": [
    "#### Labels\n",
    "Say we want to change the names of some of our labels. There are a few ways to do this, but the easiest is to interface with **matplotlib**\n"
   ]
  },
  {
   "cell_type": "code",
   "execution_count": null,
   "id": "10f6f59b-c748-4f1d-ba1d-f9e8c5b7e7bf",
   "metadata": {
    "id": "10f6f59b-c748-4f1d-ba1d-f9e8c5b7e7bf",
    "outputId": "62c345a8-b6e1-4865-efdc-773208f85f73"
   },
   "outputs": [],
   "source": [
    "sns.set_style('ticks')\n",
    "\n",
    "sns.lineplot(data = data, x = 'time_from_stim', y = 'dF/F', hue = 'exposure', palette = 'Blues')\n",
    "plt.xlabel('Delta Stim')\n",
    "plt.ylabel('Neural Activity')\n",
    "plt.title('My first seaborn plot title!')"
   ]
  },
  {
   "cell_type": "markdown",
   "id": "566d849c-ee5e-4589-b6bf-6781ecde0f7e",
   "metadata": {
    "id": "566d849c-ee5e-4589-b6bf-6781ecde0f7e"
   },
   "source": [
    "#### Figure size"
   ]
  },
  {
   "cell_type": "code",
   "execution_count": null,
   "id": "4dd5cf76-a0ec-4a52-8f6f-efcfc6850c68",
   "metadata": {
    "id": "4dd5cf76-a0ec-4a52-8f6f-efcfc6850c68",
    "outputId": "7ffa0214-d0b1-41a2-d462-fbcb79390426"
   },
   "outputs": [],
   "source": [
    "plt.figure(figsize=(10,4))\n",
    "sns.lineplot(data = data, x = 'time_from_stim', y = 'dF/F', hue = 'exposure', palette = 'Blues')\n",
    "plt.xlabel('Delta Stim')\n",
    "plt.ylabel('Neural Activity')\n",
    "plt.title('My first seaborn plot title!')"
   ]
  },
  {
   "cell_type": "markdown",
   "id": "e6d6add1-8d7d-455e-9383-62efdcbb9528",
   "metadata": {
    "id": "e6d6add1-8d7d-455e-9383-62efdcbb9528"
   },
   "source": [
    "#### Multiple plots in one figure\n",
    "Seaborn has a really nice function called `relplot` which makes it very easy to split data based on various features into grids of graphs. This is super useful when you have tons of categorical multivariate data to parse through."
   ]
  },
  {
   "cell_type": "code",
   "execution_count": null,
   "id": "d71ffa1a-e9c2-44ec-865e-36c97fe28676",
   "metadata": {
    "id": "d71ffa1a-e9c2-44ec-865e-36c97fe28676",
    "outputId": "51a20f32-c07a-4a01-b746-9d59a97be230"
   },
   "outputs": [],
   "source": [
    "sns.relplot(data = data, kind = 'line', x = 'time_from_stim', y = 'dF/F', col = 'exposure', row = 'omitted')"
   ]
  },
  {
   "cell_type": "markdown",
   "id": "b6fd783c-4447-4e07-bf02-ee3dfd66f2bd",
   "metadata": {
    "id": "b6fd783c-4447-4e07-bf02-ee3dfd66f2bd",
    "tags": []
   },
   "source": [
    "## Problem 4\n",
    "1) Take one of the graphs we've created in class and change: <br>\n",
    "    a) colors - find a colorblind friendly palette for me ;) <br>\n",
    "    b) labels - what would you want the x and y axes to say? <br>\n",
    "    c) title - up to you <br>\n",
    "    d) CHALLENGE_1: modify the legend, if there is one on the graph - can you change the bounding box color/style? <br>\n",
    "    e) CHALLENGE_2: can you figure out a way to change the font of your graphs? <br>\n",
    "\n",
    "    Feel free to use the documentation as a guide, and google away!"
   ]
  },
  {
   "cell_type": "code",
   "execution_count": null,
   "id": "4cc85088-1b00-47e7-8e15-5c0dcd873795",
   "metadata": {
    "id": "4cc85088-1b00-47e7-8e15-5c0dcd873795"
   },
   "outputs": [],
   "source": []
  },
  {
   "cell_type": "markdown",
   "id": "483e6ac6-50fd-4d17-9ef3-d96f4ce34df8",
   "metadata": {
    "id": "483e6ac6-50fd-4d17-9ef3-d96f4ce34df8"
   },
   "source": [
    "### Saving Figures\n",
    "Saving figures can be tricky at times. You have to specify a high DPI (300, depends on the size of your plot) if you want decent resolution, and sometimes axes can get lopped off."
   ]
  },
  {
   "cell_type": "code",
   "execution_count": null,
   "id": "fac3a08c-5c93-4b88-8901-34421e086634",
   "metadata": {
    "id": "fac3a08c-5c93-4b88-8901-34421e086634",
    "outputId": "6216a265-6836-4b93-8aba-97a35f23f998"
   },
   "outputs": [],
   "source": [
    "plt.figure(figsize=(8,4))\n",
    "sns.lineplot(data = data, x = 'time_from_stim' , y = 'dF/F', hue = 'exposure', style = 'omitted')\n",
    "plt.xlabel('Delta Stim')\n",
    "plt.ylabel('dF/F')\n",
    "plt.title('Real Data')\n",
    "\n",
    "plt.savefig('my_figure.png', dpi = 300)"
   ]
  },
  {
   "cell_type": "markdown",
   "id": "4ab40032-4b64-464b-b6be-823b7222a33b",
   "metadata": {
    "id": "4ab40032-4b64-464b-b6be-823b7222a33b"
   },
   "source": [
    "Oh no! Our axes, it's broken!"
   ]
  },
  {
   "cell_type": "code",
   "execution_count": null,
   "id": "21abf646-2d82-4b8d-b7d8-46fe92202e5a",
   "metadata": {
    "id": "21abf646-2d82-4b8d-b7d8-46fe92202e5a",
    "outputId": "89812029-5259-4c6f-96da-99f0f3f6b83c"
   },
   "outputs": [],
   "source": [
    "plt.figure(figsize=(8,4))\n",
    "sns.lineplot(data = data, x = 'time_from_stim' , y = 'dF/F', hue = 'exposure', style = 'omitted')\n",
    "plt.xlabel('Delta Stim')\n",
    "plt.ylabel('dF/F')\n",
    "plt.title('Real Data')\n",
    "#use this bbox_inches command to fix things\n",
    "plt.savefig('my_figure.png', dpi = 300, bbox_inches = 'tight')"
   ]
  },
  {
   "cell_type": "code",
   "execution_count": null,
   "id": "aa0f1f3c-7f25-4575-b991-893c5ad205ee",
   "metadata": {
    "id": "aa0f1f3c-7f25-4575-b991-893c5ad205ee"
   },
   "outputs": [],
   "source": [
    "plt.figure(figsize=(8,4))\n",
    "sns.lineplot(data = data, x = 'time_from_stim' , y = 'dF/F', hue = 'exposure', style = 'omitted')\n",
    "plt.xlabel('Delta Stim')\n",
    "plt.ylabel('dF/F')\n",
    "plt.title('Real Data')\n",
    "#use this bbox_inches command to fix things\n",
    "plt.savefig('my_figure.pdf', dpi = 300, bbox_inches = 'tight')"
   ]
  }
 ],
 "metadata": {
  "colab": {
   "provenance": []
  },
  "kernelspec": {
   "display_name": "Python 3.10.6 ('python_course')",
   "language": "python",
   "name": "python3"
  },
  "language_info": {
   "codemirror_mode": {
    "name": "ipython",
    "version": 3
   },
   "file_extension": ".py",
   "mimetype": "text/x-python",
   "name": "python",
   "nbconvert_exporter": "python",
   "pygments_lexer": "ipython3",
   "version": "3.10.6"
  },
  "vscode": {
   "interpreter": {
    "hash": "06cff675b4974f81126502ff1d742c5995a5a97b8dc04d36080d2e6584c3fbac"
   }
  }
 },
 "nbformat": 4,
 "nbformat_minor": 5
}
